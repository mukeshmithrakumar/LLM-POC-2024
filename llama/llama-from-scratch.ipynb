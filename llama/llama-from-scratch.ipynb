{
 "cells": [
  {
   "cell_type": "markdown",
   "metadata": {},
   "source": [
    "# LLaMA From Scratch\n",
    "\n",
    "**References**\n",
    "- *Coding LLaMA 2 from scratch in PyTorch - KV Cache, Grouped Query Attention, Rotary PE, RMSNorm: [Youtube Video](https://youtu.be/oM4VmoabDAI?si=JtlNl00nZeIOkWxx), [Code](https://github.com/hkproj/pytorch-llama)*\n",
    "- *LLaMA explained: KV-Cache, Rotary Positional Embedding, RMS Norm, Grouped Query Attention, SwiGLU: [Youtube Video](https://youtu.be/Mn_9W1nCFLo?si=4xJy4OzpPX5YxGqx)*\n",
    "- "
   ]
  },
  {
   "cell_type": "code",
   "execution_count": null,
   "metadata": {},
   "outputs": [],
   "source": []
  },
  {
   "cell_type": "markdown",
   "metadata": {},
   "source": [
    "## Imports"
   ]
  },
  {
   "cell_type": "code",
   "execution_count": 2,
   "metadata": {},
   "outputs": [],
   "source": [
    "from dataclasses import dataclass\n",
    "from typing import Optional, List, Dict, Any\n",
    "import math\n",
    "import torch\n",
    "import torch.nn as nn\n",
    "import torch.nn.functional as F"
   ]
  },
  {
   "cell_type": "code",
   "execution_count": null,
   "metadata": {},
   "outputs": [],
   "source": []
  },
  {
   "cell_type": "markdown",
   "metadata": {},
   "source": [
    "# LLaMA Model"
   ]
  },
  {
   "cell_type": "markdown",
   "metadata": {},
   "source": [
    "**LLaMA 1**\n",
    "![LLaMA 1 Parameters](images/llama-1-parameters.png)\n",
    "\n",
    "**LLaMA 2**\n",
    "![LLaMA 2 Parameters](images/llama-2-parameters.png)\n",
    "\n",
    "**LLaMA 3**\n",
    "\n"
   ]
  },
  {
   "cell_type": "markdown",
   "metadata": {},
   "source": [
    "### Model Arguments\n",
    "\n"
   ]
  },
  {
   "cell_type": "code",
   "execution_count": 4,
   "metadata": {},
   "outputs": [],
   "source": [
    "@dataclass\n",
    "class ModelArgs:\n",
    "    dim: int = 4096\n",
    "    n_layers: int = 32\n",
    "    # * Unlike the og transformer, we don't need to have the same q, k, v values in LLaMA\n",
    "    n_heads: int = 32  # number of heads for the queries\n",
    "    n_kv_heads: Optional[int] = None  # Number of heads for the keys and values\n",
    "    vocab_size: int = -1  # will be set when we load the tokenizer\n",
    "    # * since grouped query attention heads are reduced, \n",
    "    # * the number of params in the FFN is increased to keep the total number of parameters the same\n",
    "    multiple_of: int = 256\n",
    "    ffn_dim_multiplier: Optional[float] = None\n",
    "    norm_eps: float = 1e-5  # epsilon for layer norm\n",
    "\n",
    "    # needed for KV cache\n",
    "    max_batch_size: int = 32\n",
    "    max_seq_len: int = 2048\n",
    "    \n",
    "    device: str = None"
   ]
  },
  {
   "cell_type": "markdown",
   "metadata": {},
   "source": [
    "## Rotary Positional Embedding"
   ]
  },
  {
   "cell_type": "markdown",
   "metadata": {},
   "source": [
    "### Precompute Theta Posistional Frequencies\n",
    "\n",
    "Below are the steps involved in precomputing theta positional frequencies:\n",
    "\n",
    "![Precompute Theta Posistional Frequencies Steps](images/theta-pos-freq-steps.png)\n"
   ]
  },
  {
   "cell_type": "code",
   "execution_count": 5,
   "metadata": {},
   "outputs": [],
   "source": [
    "def precompute_theta_pos_frequencies(head_dim: int, seq_len: int, device: str, theta: float = 10000.0):\n",
    "    # theta 10000.0 is the default value in the paper\n",
    "    # As written in the paragraph 3.2.2 of the paper\n",
    "    # >> In order to generalize our results in 2D to any xi ∈ Rd where **d is even**, [...]\n",
    "    assert head_dim % 2 == 0, \"Dimension must be even since rotary embedding can't be applied to odd.\"\n",
    "\n",
    "    # Build the theta parameter\n",
    "    # According to the formula theta_i = 10000^(-2(i-1)/dim) for i = [1, 2, ..., dim/2]\n",
    "    theta_numerator = torch.arange(0, head_dim, 2).float()  # (head_dim / 2)\n",
    "    theta = 1.0 / (theta ** (theta_numerator / head_dim)).to(device)  # (dim / 2)\n",
    "    # construct the positions (the \"m\" parameter)\n",
    "    m = torch.arange(seq_len, device=device)  # (seq_len)\n",
    "    # Multiply each theta by each position using the outer product.\n",
    "    freqs = torch.outer(m, theta).float()  # (seq_len), outer_product*(head_dim/2) -> (seq_len,head_dim/2)\n",
    "    # we can compute complex numbers in the polar form c = R*exp(m*theta), where R=1 as follow:\n",
    "    freqs_complex = torch.polar(torch.ones_like(freqs), freqs)\n",
    "    return freqs_complex"
   ]
  },
  {
   "cell_type": "markdown",
   "metadata": {},
   "source": [
    "### Rotary Embeddings"
   ]
  },
  {
   "cell_type": "code",
   "execution_count": 6,
   "metadata": {},
   "outputs": [],
   "source": [
    "def apply_rotary_embeddings(x: torch.Tensor, freqs_complex: torch.Tensor, device:str):\n",
    "    # seperate the last dimension pairs of 2 values, representing the real & imaginary parts of the complex number\n",
    "    # Two consecutive values will become a single complex number\n",
    "    x_complex = torch.view_as_complex(x.float().reshape(*x.shape[:-1], -1, 2))  # (B,seq_len,H,head_dim) -> (B,seq_len,H,head_dim/2)\n",
    "    # reshape the freqs_complex tensor to match the shape of the x_complex tensor.\n",
    "    # So we need to add the batch dimension and the head dimension.\n",
    "    freqs_complex = freqs_complex.unsqueeze(0).unsqueeze(2)  # (seq_len,head_dim/2) -> (1,seq_len,1,head_dim/2)\n",
    "    # Multiply each complex number in the x_complex tensor by the corresponding complex number in the freqs_complex tensor\n",
    "    # Which results in the rotation of the complex number as shown in the Figure 1 of the paper.\n",
    "    x_rotated = x_complex * freqs_complex  # (B,seq_len,H,head_dim/2)*(1,seq_len,1,head_dim/2) -> (B,seq_len,H,head_dim/2)\n",
    "    # convert the complex number back to the real number\n",
    "    x_out = torch.view_as_real(x_rotated)  # (B,seq_len,H,head_dim/2) -> (B,seq_len,H,head_dim/2,2)\n",
    "    x_out = x_out.reshape(*x.shape)  # (B,seq_len,H,head_dim/2,2) -> (B,seq_len,H,head_dim)\n",
    "    return x_out.type_as(x).to(device)"
   ]
  },
  {
   "cell_type": "markdown",
   "metadata": {},
   "source": [
    "## Root Mean Square Normalization"
   ]
  },
  {
   "cell_type": "code",
   "execution_count": null,
   "metadata": {},
   "outputs": [],
   "source": [
    "class RMSNorm(nn.Module):\n",
    "    def __init__(self, dim: int, eps: float = 1e-6) -> None:\n",
    "        super().__init__()\n",
    "        self.eps = eps\n",
    "        # The gamma parameter\n",
    "        self.weight = nn.Parameter(torch.ones(dim))\n",
    "    \n",
    "    def _norm(self, x: torch.Tensor) -> torch.Tensor:\n",
    "        # rsqrt: 1 / sqrt(x)\n",
    "        return x * torch.rsqrt(x.pow(2).mean(-1, keepdim=True) + self.eps)  # (B,seq_len,dim)*(B,seq_len,1) -> (B,seq_len,dim)\n",
    "    \n",
    "    def forward(self, x: torch.Tensor) -> torch.Tensor:\n",
    "        return self.weight * self._norm(x.float()).type_as(x)  # (dim)*(B,seq_len,dim) -> (B,seq_len,dim)"
   ]
  },
  {
   "cell_type": "code",
   "execution_count": null,
   "metadata": {},
   "outputs": [],
   "source": []
  },
  {
   "cell_type": "markdown",
   "metadata": {},
   "source": [
    "## Feed Forward"
   ]
  },
  {
   "cell_type": "code",
   "execution_count": null,
   "metadata": {},
   "outputs": [],
   "source": [
    "class FeedForward(nn.Module):\n",
    "    def __init__(self, args: ModelArgs) -> None:\n",
    "        super().__init__()\n",
    "\n",
    "        hidden_dim = 4 * args.dim\n",
    "        hidden_dim = int(2 * hidden_dim / 3)\n",
    "        if args.ffn_dim_multiplier is not None:\n",
    "            hidden_dim = int(args.ffn_dim_multiplier * hidden_dim)\n",
    "        # Round the hidden_dim to the nearest multiple of the multiple_of parameter\n",
    "        hidden_dim = args.multiple_of * ((hidden_dim + args.multiple_of - 1) // args.multiple_of)\n",
    "\n",
    "        self.w1 = nn.Linear(args.dim, hidden_dim, bias=False)\n",
    "        self.w2 = nn.Linear(hidden_dim, args.dim, bias=False)\n",
    "        self.w3 = nn.Linear(args.dim, hidden_dim, bias=False)\n",
    "    \n",
    "    def forward(self, x: torch.Tensor) -> torch.Tensor:\n",
    "        swish = F.silu(self.w1(x))  # (B,seq_len,dim) -> (B,seq_len,hidden_dim)\n",
    "        x_v = self.w3(x)  # (B,seq_len,dim) -> (B,seq_len,hidden_dim)\n",
    "        x = swish * x_v  # (B,seq_len,hidden_dim)*(B,seq_len,hidden_dim) -> (B,seq_len,hidden_dim)\n",
    "        x = self.w2(x)  # (B,seq_len,hidden_dim) -> (B,seq_len,dim)\n",
    "        return x"
   ]
  },
  {
   "cell_type": "code",
   "execution_count": null,
   "metadata": {},
   "outputs": [],
   "source": []
  },
  {
   "cell_type": "markdown",
   "metadata": {},
   "source": [
    "## Self-Attention"
   ]
  },
  {
   "cell_type": "markdown",
   "metadata": {},
   "source": [
    "### Repeat KV"
   ]
  },
  {
   "cell_type": "code",
   "execution_count": null,
   "metadata": {},
   "outputs": [],
   "source": [
    "def repeat_kv(x: torch.Tensor, n_rep: int) -> torch.Tensor:\n",
    "    batch_size, seq_len, n_kv_heads, head_dim = x.shape\n",
    "    if n_rep == 1:\n",
    "        return x\n",
    "    return (\n",
    "        x[:, :, None, :]  # (B, seq_len, n_kv_heads, 1, head_dim)\n",
    "        .expand(batch_size, seq_len, n_kv_heads, n_rep, head_dim)  # (B, seq_len, n_kv_heads, n_rep, head_dim)\n",
    "        .reshape(batch_size, seq_len, n_kv_heads * n_rep, head_dim)  # (B, seq_len, n_kv_heads * n_rep, head_dim)\n",
    "    )"
   ]
  },
  {
   "cell_type": "code",
   "execution_count": null,
   "metadata": {},
   "outputs": [],
   "source": []
  },
  {
   "cell_type": "markdown",
   "metadata": {},
   "source": [
    "### Self-Attention"
   ]
  },
  {
   "cell_type": "code",
   "execution_count": null,
   "metadata": {},
   "outputs": [],
   "source": [
    "class SelfAttention(nn.Module):\n",
    "    def __init__(self, args: ModelArgs) -> None:\n",
    "        super().__init__()\n",
    "\n",
    "        # indicates the number of heads for the keys and values\n",
    "        self.n_kv_heads = args.n_heads if args.n_kv_heads is None else args.n_kv_heads\n",
    "        # indicates the number of heads for the queries\n",
    "        self.n_heads_q = args.n_heads\n",
    "        # indicates how many times the keys and values should be repeated\n",
    "        self.n_rep = self.n_heads_q // self.n_kv_heads\n",
    "        # indicates the dimension of each head, i.e the part of the embedding that each head will be responsible for\n",
    "        self.head_dim = args.dim // args.n_heads\n",
    "\n",
    "        self.wq = nn.Linear(args.dim, args.n_heads * self.head_dim, bias=False)\n",
    "        self.wk = nn.Linear(args.dim, self.n_kv_heads * self.head_dim, bias=False)\n",
    "        self.wv = nn.Linear(args.dim, self.n_kv_heads * self.head_dim, bias=False)\n",
    "        self.wo = nn.Linear(args.n_heads * self.head_dim, args.dim, bias=False)\n",
    "\n",
    "        self.cache_k = torch.zeros((args.max_batch_size, args.max_seq_len, self.n_kv_heads, self.head_dim))\n",
    "        self.cache_v = torch.zeros((args.max_batch_size, args.max_seq_len, self.n_kv_heads, self.head_dim))\n",
    "    \n",
    "    def forward(self, x: torch.Tensor, start_pos: int, freqs_complex: torch.Tensor):\n",
    "        batch_size, seq_len, _ = x.shape  # (B, 1, dim)\n",
    "        xq = self.wq(x)  # (B, 1, dim) -> (B, 1, H_Q * head_dim)\n",
    "        xk = self.wk(x)  # (B, 1, dim) -> (B, 1, H_KV * head_dim)\n",
    "        xv = self.wv(x)  # (B, 1, dim) -> (B, 1, H_KV * head_dim)\n",
    "\n",
    "        xq = xq.view(batch_size, seq_len, self.n_heads_q, self.head_dim)  # (B, 1, H_Q * head_dim) -> (B, 1, H_Q, head_dim)\n",
    "        xk = xk.view(batch_size, seq_len, self.n_kv_heads, self.head_dim)  # (B, 1, H_KV * head_dim) -> (B, 1, H_KV, head_dim)\n",
    "        xv = xv.view(batch_size, seq_len, self.n_kv_heads, self.head_dim)  # (B, 1, H_KV * head_dim) -> (B, 1, H_KV, head_dim)\n",
    "\n",
    "        xq = apply_rotary_embeddings(xq, freqs_complex, x.device)  # (B, 1, H_Q, head_dim) -> (B, 1, H_Q, head_dim)\n",
    "        xk = apply_rotary_embeddings(xk, freqs_complex, x.device)  # (B, 1, H_KV, head_dim) -> (B, 1, H_KV, head_dim)\n",
    "\n",
    "        # replace the entry in the cache\n",
    "        self.cache_k[:batch_size, start_pos:start_pos+seq_len] = xk\n",
    "        self.cache_v[:batch_size, start_pos:start_pos+seq_len] = xv\n",
    "\n",
    "        keys = self.cache_k[:batch_size, :start_pos+seq_len]  #  (B, seq_len_kv, H_KV, head_dim)\n",
    "        values = self.cache_v[:batch_size, :start_pos+seq_len]  # (B, seq_len_kv, H_KV, head_dim)\n",
    "\n",
    "        # since every group of Q shares the same K & V heads, just repeat the K & V heads for every Q in the same group.\n",
    "        keys = repeat_kv(keys, self.n_rep)  # (B, seq_len_kv, H_KV, head_dim) -> (B, seq_len_kv, H_Q, head_dim)\n",
    "        values = repeat_kv(values, self.n_rep)  # (B, seq_len_kv, H_KV, head_dim) -> (B, seq_len_kv, H_Q, head_dim)\n",
    "\n",
    "        xq = xq.transpose(1, 2)  # (B, 1, H_Q, head_dim) -> (B, H_Q, 1, head_dim)\n",
    "        keys = keys.transpose(1, 2)  # (B, seq_len_kv, H_Q, head_dim) -> (B, H_Q, seq_len_kv, head_dim)\n",
    "        values = values.transpose(1, 2)  # (B, seq_len_kv, H_Q, head_dim) -> (B, H_Q, seq_len_kv, head_dim)\n",
    "\n",
    "        scores = torch.matmul(xq, keys.transpose(2, 3)) / math.sqrt(self.head_dim)  # (B,H_Q,1,head_dim) @ (B,H_Q,head_dim,seq_len_kv) -> (B,H_Q,1,seq_len_kv)\n",
    "        scores = F.softmax(scores.float(), dim=-1).type_as(xq)  # (B,H_Q,1,seq_len_kv) -> (B,H_Q,1,seq_len_kv)\n",
    "\n",
    "        output = torch.matmul(scores, values)  # (B,H_Q,1,seq_len) @ (B,H_Q,seq_len_kv,head_dim) -> (B,H_Q,1,head_dim)\n",
    "        output = (output.transpose(1, 2).contiguous().view(batch_size, seq_len, -1))  # (B,H_Q,1,head_dim) -> (B,1,H_Q,head_dim) -> (B,1,dim)\n",
    "        return self.wo(output)  # (B,1,dim) -> (B,1,dim)\n"
   ]
  },
  {
   "cell_type": "code",
   "execution_count": null,
   "metadata": {},
   "outputs": [],
   "source": []
  },
  {
   "cell_type": "code",
   "execution_count": null,
   "metadata": {},
   "outputs": [],
   "source": []
  },
  {
   "cell_type": "markdown",
   "metadata": {},
   "source": [
    "## Encoder Block"
   ]
  },
  {
   "cell_type": "code",
   "execution_count": null,
   "metadata": {},
   "outputs": [],
   "source": [
    "class EncoderBlock(nn.Module):\n",
    "    def __init__(self, args: ModelArgs) -> None:\n",
    "        super().__init__()\n",
    "\n",
    "        self.n_head = args.n_heads\n",
    "        self.dim = args.dim\n",
    "        self.head_dim = self.dim // self.n_head\n",
    "\n",
    "        self.attention = SelfAttention(args)\n",
    "        self.feed_forward = FeedForward(args)\n",
    "\n",
    "        # Normalization BEFORE the attention block\n",
    "        self.attention_norm = RMSNorm(self.dim, eps=args.norm_eps)\n",
    "        # Normalization BEFORE the feed-forward block\n",
    "        self.ffn_norm = RMSNorm(self.dim, eps=args.norm_eps)\n",
    "    \n",
    "    def forward(self, x: torch.Tensor, start_pos: int, freqs_complex: torch.Tensor) -> torch.Tensor:\n",
    "        h = x + self.attention.forward(self.attention_norm(x), start_pos, freqs_complex)  # (B,seq_len,dim) + (B,seq_len,dim) -> (B,seq_len,dim)\n",
    "        out = h + self.feed_forward.forward(self.ffn_norm(h))  # (B,seq_len,dim) + (B,seq_len,dim) -> (B,seq_len,dim)\n",
    "        return out"
   ]
  },
  {
   "cell_type": "code",
   "execution_count": null,
   "metadata": {},
   "outputs": [],
   "source": []
  },
  {
   "cell_type": "markdown",
   "metadata": {},
   "source": [
    "## Transformer"
   ]
  },
  {
   "cell_type": "markdown",
   "metadata": {},
   "source": [
    "![Transformer vs LLaMA](images/Transformer-vs-LLaMA.png)"
   ]
  },
  {
   "cell_type": "code",
   "execution_count": null,
   "metadata": {},
   "outputs": [],
   "source": [
    "class Transformer(nn.Module):\n",
    "    def __init__(self, args: ModelArgs) -> None:\n",
    "        super().__init__()\n",
    "        assert args.vocab_size != -1, \"vocab_size must be set\"\n",
    "\n",
    "        self.args = args\n",
    "        self.vocab_size = args.vocab_size\n",
    "        self.n_layers = args.n_layers  # represents Nx in the figure above: 32 layers\n",
    "        self.tok_embeddings = nn.Embedding(self.vocab_size, args.dim)\n",
    "\n",
    "        self.layers = nn.ModuleList()\n",
    "        for _ in range(args.n_layers):\n",
    "            self.layers.append(EncoderBlock(args))\n",
    "        \n",
    "        self.norm = RMSNorm(args.dim, eps=args.norm_eps)\n",
    "        self.output = nn.Linear(args.dim, self.vocab_size, bias=False)\n",
    "\n",
    "        self.freqs_complex = precompute_theta_pos_frequencies(self.args.dim // self.args.n_heads, self.args.max_seq_len*2, device=self.args.device)\n",
    "    \n",
    "    def forward(self, tokens: torch.Tensor, start_pos: int):\n",
    "        batch_size, seq_len = tokens.shape  # (B, seq_len)\n",
    "        assert seq_len == 1, \"Only one token at a time can be processed.\"\n",
    "\n",
    "        h = self.tok_embeddings(tokens)  # (B, seq_len) -> (B, seq_len, dim)\n",
    "        # retrieve the pairs (m, theta) corresponding to the positions [start_pos, start_pos + seq_len]\n",
    "        freqs_complex = self.freqs_complex[start_pos:start_pos+seq_len]\n",
    "\n",
    "        # consequently apply all the encoder layers\n",
    "        for layer in self.layers:\n",
    "            h = layer(h, start_pos, freqs_complex)\n",
    "        h = self.norm(h)\n",
    "        output = self.output(h).float()\n",
    "        return output"
   ]
  },
  {
   "cell_type": "code",
   "execution_count": null,
   "metadata": {},
   "outputs": [],
   "source": []
  },
  {
   "cell_type": "code",
   "execution_count": null,
   "metadata": {},
   "outputs": [],
   "source": []
  },
  {
   "cell_type": "code",
   "execution_count": null,
   "metadata": {},
   "outputs": [],
   "source": []
  },
  {
   "cell_type": "code",
   "execution_count": null,
   "metadata": {},
   "outputs": [],
   "source": []
  },
  {
   "cell_type": "code",
   "execution_count": null,
   "metadata": {},
   "outputs": [],
   "source": []
  },
  {
   "cell_type": "code",
   "execution_count": null,
   "metadata": {},
   "outputs": [],
   "source": []
  },
  {
   "cell_type": "code",
   "execution_count": null,
   "metadata": {},
   "outputs": [],
   "source": []
  }
 ],
 "metadata": {
  "kernelspec": {
   "display_name": "torchdl",
   "language": "python",
   "name": "python3"
  },
  "language_info": {
   "codemirror_mode": {
    "name": "ipython",
    "version": 3
   },
   "file_extension": ".py",
   "mimetype": "text/x-python",
   "name": "python",
   "nbconvert_exporter": "python",
   "pygments_lexer": "ipython3",
   "version": "3.10.14"
  }
 },
 "nbformat": 4,
 "nbformat_minor": 2
}
